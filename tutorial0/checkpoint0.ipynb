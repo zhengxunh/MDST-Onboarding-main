{
 "cells": [
  {
   "cell_type": "markdown",
   "metadata": {
    "colab_type": "text",
    "id": "0a8IYAJUshu1"
   },
   "source": [
    "# Checkpoint 0 \n",
    "## Do not remove comments that start with: \"# @@@\" (Those are question tags)"
   ]
  },
  {
   "cell_type": "markdown",
   "metadata": {},
   "source": [
    "These exercises are a mix of Python and Pandas practice. Most should be no more than a few lines of code! \n",
    "\n",
    "Do not remove comments that start with: \"# @@@\" (Those are question tags)"
   ]
  },
  {
   "cell_type": "code",
   "execution_count": 3,
   "id": "e968d415",
   "metadata": {
    "colab": {},
    "colab_type": "code",
    "id": "Jo6wuTgkshu1"
   },
   "outputs": [
    {
     "data": {
      "text/plain": [
       "[1, 2, 3, 4, 5, 6]"
      ]
     },
     "execution_count": 3,
     "metadata": {},
     "output_type": "execute_result"
    }
   ],
   "source": [
    "# @@@ Question 1: Here is a python list, initialize another list called b with the same values as a.\n",
    "a = [1, 2, 3, 4, 5, 6]\n",
    "b = a\n",
    "b\n"
   ]
  },
  {
   "cell_type": "code",
   "execution_count": 5,
   "id": "779d96b1",
   "metadata": {},
   "outputs": [
    {
     "data": {
      "text/plain": [
       "[4, 5, 6]"
      ]
     },
     "execution_count": 5,
     "metadata": {},
     "output_type": "execute_result"
    }
   ],
   "source": [
    "# @@@ Question 2: get a list containing the last 3 elements of b \n",
    "# Yes, you can just type out [4, 5, 6] but we really want to see you demonstrate you know how to use list slicing in Python\n",
    "c = b[3:]\n",
    "c"
   ]
  },
  {
   "cell_type": "code",
   "execution_count": 10,
   "id": "b6a54def",
   "metadata": {},
   "outputs": [
    {
     "data": {
      "text/plain": [
       "[1, 2, 3, 4, 5, 6, 7, 8, 9, 10, 11, 12, 13, 14, 15, 16, 17, 18, 19, 20]"
      ]
     },
     "execution_count": 10,
     "metadata": {},
     "output_type": "execute_result"
    }
   ],
   "source": [
    "# @@@ Question 3: Create a list of numbers from 1 to 20\n",
    "\n",
    "listl = [i for i in range(1,21,)]\n",
    "\n",
    "listl"
   ]
  },
  {
   "cell_type": "code",
   "execution_count": null,
   "id": "487873ac",
   "metadata": {},
   "outputs": [],
   "source": [
    "# @@@ Question 4: now get a list with only the even numbers between 1 and 100\n",
    "evens = [i for i in range(2, 101, 2)]\n",
    "evens"
   ]
  },
  {
   "cell_type": "code",
   "execution_count": 13,
   "id": "3d4bb5dd",
   "metadata": {},
   "outputs": [],
   "source": [
    "# @@@ Question 5: write a function that takes two numbers as arguments\n",
    "# and returns the first number divided by the second\n",
    "def divide(x, y):\n",
    "    return x/y"
   ]
  },
  {
   "cell_type": "code",
   "execution_count": 14,
   "id": "f55df04e",
   "metadata": {},
   "outputs": [
    {
     "name": "stdout",
     "output_type": "stream",
     "text": [
      "1\n",
      "2\n",
      "fizz\n",
      "4\n",
      "buzz\n",
      "fizz\n",
      "7\n",
      "8\n",
      "fizz\n",
      "buzz\n",
      "11\n",
      "fizz\n",
      "13\n",
      "14\n",
      "fizzbuzz\n",
      "16\n",
      "17\n",
      "fizz\n",
      "19\n",
      "buzz\n",
      "fizz\n",
      "22\n",
      "23\n",
      "fizz\n",
      "buzz\n",
      "26\n",
      "fizz\n",
      "28\n",
      "29\n",
      "fizzbuzz\n"
     ]
    }
   ],
   "source": [
    "# @@@ Queston 6: fizzbuzz\n",
    "# you will need to use both iteration and control flow \n",
    "# go through all numbers from 1 to 30 in order\n",
    "# if the number is a multiple of 3, print fizz\n",
    "# if the number is a multiple of 5, print buzz\n",
    "# if the number is a multiple of 3 and 5, print fizzbuzz and NOTHING ELSE\n",
    "# if the number is neither a multiple of 3 nor a multiple of 5, print the number\n",
    "for i in range(1, 31):  # iteration from 1 to 30\n",
    "    if i % 3 == 0 and i % 5 == 0:\n",
    "        print(\"fizzbuzz\")\n",
    "    elif i % 3 == 0:\n",
    "        print(\"fizz\")\n",
    "    elif i % 5 == 0:\n",
    "        print(\"buzz\")\n",
    "    else:\n",
    "        print(i)"
   ]
  },
  {
   "cell_type": "code",
   "execution_count": 16,
   "id": "78aace0b",
   "metadata": {},
   "outputs": [
    {
     "data": {
      "text/plain": [
       "{'Gyro': 9, 'Burger': 9, 'Greek Salad': 8, 'Philly Steak': 10}"
      ]
     },
     "execution_count": 16,
     "metadata": {},
     "output_type": "execute_result"
    }
   ],
   "source": [
    "# @@@ Question 7: create a dictionary that reflects the following menu pricing (taken from Ahmo's)\n",
    "# Gyro: $9 \n",
    "# Burger: $9\n",
    "# Greek Salad: $8\n",
    "# Philly Steak: $10\n",
    "Menu = {\n",
    "\"Gyro\": 9 ,\n",
    "\"Burger\": 9,\n",
    "\"Greek Salad\": 8,\n",
    "\"Philly Steak\": 10\n",
    "}\n",
    "Menu"
   ]
  },
  {
   "cell_type": "code",
   "execution_count": 28,
   "id": "b8232fb3",
   "metadata": {
    "colab": {},
    "colab_type": "code",
    "id": "WzCQ5HOJshvA"
   },
   "outputs": [
    {
     "ename": "NameError",
     "evalue": "name 'pd' is not defined",
     "output_type": "error",
     "traceback": [
      "\u001b[31m---------------------------------------------------------------------------\u001b[39m",
      "\u001b[31mNameError\u001b[39m                                 Traceback (most recent call last)",
      "\u001b[36mCell\u001b[39m\u001b[36m \u001b[39m\u001b[32mIn[28]\u001b[39m\u001b[32m, line 4\u001b[39m\n\u001b[32m      1\u001b[39m \u001b[38;5;66;03m# @@@ Question 8: load in the \"starbucks.csv\" dataset\u001b[39;00m\n\u001b[32m      2\u001b[39m \u001b[38;5;66;03m# refer to how we read the cereal.csv dataset in the tutorial\u001b[39;00m\n\u001b[32m----> \u001b[39m\u001b[32m4\u001b[39m df = \u001b[43mpd\u001b[49m.read_csv(\u001b[33m\"\u001b[39m\u001b[33m../data/starbucks.csv\u001b[39m\u001b[33m\"\u001b[39m)\n\u001b[32m      5\u001b[39m \u001b[38;5;28mtype\u001b[39m(df)\n",
      "\u001b[31mNameError\u001b[39m: name 'pd' is not defined"
     ]
    }
   ],
   "source": [
    "# @@@ Question 8: load in the \"starbucks.csv\" dataset\n",
    "# refer to how we read the cereal.csv dataset in the tutorial\n",
    "\n",
    "df = pd.read_csv(\"../data/starbucks.csv\")\n",
    "type(df)"
   ]
  },
  {
   "cell_type": "code",
   "execution_count": null,
   "id": "ac0f0c12",
   "metadata": {},
   "outputs": [
    {
     "ename": "NameError",
     "evalue": "name 'df' is not defined",
     "output_type": "error",
     "traceback": [
      "\u001b[31m---------------------------------------------------------------------------\u001b[39m",
      "\u001b[31mNameError\u001b[39m                                 Traceback (most recent call last)",
      "\u001b[36mCell\u001b[39m\u001b[36m \u001b[39m\u001b[32mIn[23]\u001b[39m\u001b[32m, line 2\u001b[39m\n\u001b[32m      1\u001b[39m \u001b[38;5;66;03m# @@@ Question 9: select all rows with more than and including 400 calories\u001b[39;00m\n\u001b[32m----> \u001b[39m\u001b[32m2\u001b[39m x=\u001b[43mdf\u001b[49m[df[\u001b[33m\"\u001b[39m\u001b[33mcalories\u001b[39m\u001b[33m\"\u001b[39m]>= \u001b[32m400\u001b[39m]\n\u001b[32m      3\u001b[39m x\n",
      "\u001b[31mNameError\u001b[39m: name 'df' is not defined"
     ]
    }
   ],
   "source": [
    "# @@@ Question 9: select all rows with more than and including 400 calories\n",
    "import pandas as pd\n",
    "df = pd.read_csv(\"../data/starbucks.csv\")\n",
    "type(df)"
   ]
  },
  {
   "cell_type": "code",
   "execution_count": null,
   "id": "ba57c630",
   "metadata": {},
   "outputs": [],
   "source": []
  },
  {
   "cell_type": "code",
   "execution_count": null,
   "id": "ee8f8241",
   "metadata": {},
   "outputs": [],
   "source": [
    "# @@@ Question 10: select all rows whose vitamin c content is higher than the iron content\n",
    "x = df[df[\"calories\"] > df[\"iron\"]]\n",
    "x"
   ]
  },
  {
   "cell_type": "code",
   "execution_count": 24,
   "id": "d4de48bb",
   "metadata": {},
   "outputs": [
    {
     "ename": "NameError",
     "evalue": "name 'df' is not defined",
     "output_type": "error",
     "traceback": [
      "\u001b[31m---------------------------------------------------------------------------\u001b[39m",
      "\u001b[31mNameError\u001b[39m                                 Traceback (most recent call last)",
      "\u001b[36mCell\u001b[39m\u001b[36m \u001b[39m\u001b[32mIn[24]\u001b[39m\u001b[32m, line 2\u001b[39m\n\u001b[32m      1\u001b[39m \u001b[38;5;66;03m# @@@ Question 11: create a new column containing the caffeine per calories of each drink\u001b[39;00m\n\u001b[32m----> \u001b[39m\u001b[32m2\u001b[39m df[\u001b[33m\"\u001b[39m\u001b[33mCaffeine_per_Calorie\u001b[39m\u001b[33m\"\u001b[39m] = \u001b[43mdf\u001b[49m[\u001b[33m\"\u001b[39m\u001b[33mCaffeine\u001b[39m\u001b[33m\"\u001b[39m] / df[\u001b[33m\"\u001b[39m\u001b[33mCalories\u001b[39m\u001b[33m\"\u001b[39m]\n\u001b[32m      3\u001b[39m df\n",
      "\u001b[31mNameError\u001b[39m: name 'df' is not defined"
     ]
    }
   ],
   "source": [
    "# @@@ Question 11: create a new column containing the caffeine per calories of each drink\n",
    "df[\"Caffeine_per_Calorie\"] = df[\"Caffeine\"] / df[\"Calories\"]\n",
    "df"
   ]
  },
  {
   "cell_type": "code",
   "execution_count": null,
   "id": "2e3719b1",
   "metadata": {
    "colab": {},
    "colab_type": "code",
    "id": "rIoxaSxHshvB"
   },
   "outputs": [],
   "source": [
    "# @@@ Question 12: what is the average calorie across all items?\n",
    "average_calories = df[\"Calories\"].mean()\n"
   ]
  },
  {
   "cell_type": "code",
   "execution_count": null,
   "id": "bf3665dd",
   "metadata": {
    "colab": {},
    "colab_type": "code",
    "id": "ABX7i49FshvD"
   },
   "outputs": [],
   "source": [
    "# @@@ Question 13: how many different categories of beverages are there?\n",
    "num_categories = df[\"Category\"].nunique()\n"
   ]
  },
  {
   "cell_type": "code",
   "execution_count": 25,
   "id": "f43d3f64",
   "metadata": {
    "colab": {},
    "colab_type": "code",
    "id": "P9QatZAzshvE"
   },
   "outputs": [
    {
     "ename": "NameError",
     "evalue": "name 'df' is not defined",
     "output_type": "error",
     "traceback": [
      "\u001b[31m---------------------------------------------------------------------------\u001b[39m",
      "\u001b[31mNameError\u001b[39m                                 Traceback (most recent call last)",
      "\u001b[36mCell\u001b[39m\u001b[36m \u001b[39m\u001b[32mIn[25]\u001b[39m\u001b[32m, line 2\u001b[39m\n\u001b[32m      1\u001b[39m \u001b[38;5;66;03m# @@@ Question 14: what is the average # calories for each beverage category?\u001b[39;00m\n\u001b[32m----> \u001b[39m\u001b[32m2\u001b[39m avg_calories_per_category = \u001b[43mdf\u001b[49m.groupby(\u001b[33m\"\u001b[39m\u001b[33mCategory\u001b[39m\u001b[33m\"\u001b[39m)[\u001b[33m\"\u001b[39m\u001b[33mCalories\u001b[39m\u001b[33m\"\u001b[39m].mean()\n",
      "\u001b[31mNameError\u001b[39m: name 'df' is not defined"
     ]
    }
   ],
   "source": [
    "# @@@ Question 14: what is the average # calories for each beverage category?\n",
    "avg_calories_per_category = df.groupby(\"Category\")[\"Calories\"].mean()\n"
   ]
  }
 ],
 "metadata": {
  "kernelspec": {
   "display_name": "venv",
   "language": "python",
   "name": "python3"
  },
  "language_info": {
   "codemirror_mode": {
    "name": "ipython",
    "version": 3
   },
   "file_extension": ".py",
   "mimetype": "text/x-python",
   "name": "python",
   "nbconvert_exporter": "python",
   "pygments_lexer": "ipython3",
   "version": "3.13.7"
  }
 },
 "nbformat": 4,
 "nbformat_minor": 5
}
